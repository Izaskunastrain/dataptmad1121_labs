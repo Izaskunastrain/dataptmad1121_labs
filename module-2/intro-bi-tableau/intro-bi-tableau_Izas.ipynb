{
 "cells": [
  {
   "cell_type": "code",
   "execution_count": null,
   "id": "76d625d0",
   "metadata": {},
   "outputs": [],
   "source": [
    "Aquí esta mi maravilla de Tableau: "
   ]
  },
  {
   "cell_type": "code",
   "execution_count": null,
   "id": "c20d4477",
   "metadata": {},
   "outputs": [],
   "source": []
  },
  {
   "cell_type": "markdown",
   "id": "53126eec",
   "metadata": {},
   "source": [
    "https://public.tableau.com/views/introtableau_16449662468870/Story1?:language=en-US&publish=yes&:display_count=n&:origin=viz_share_link"
   ]
  }
 ],
 "metadata": {
  "kernelspec": {
   "display_name": "Python [conda env:ironhack]",
   "language": "python",
   "name": "conda-env-ironhack-py"
  },
  "language_info": {
   "codemirror_mode": {
    "name": "ipython",
    "version": 3
   },
   "file_extension": ".py",
   "mimetype": "text/x-python",
   "name": "python",
   "nbconvert_exporter": "python",
   "pygments_lexer": "ipython3",
   "version": "3.7.11"
  }
 },
 "nbformat": 4,
 "nbformat_minor": 5
}
