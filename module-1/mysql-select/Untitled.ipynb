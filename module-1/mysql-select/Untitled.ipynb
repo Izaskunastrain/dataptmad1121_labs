{
 "cells": [
  {
   "cell_type": "markdown",
   "id": "5c6879ec",
   "metadata": {},
   "source": [
    "Challenge 1 - Who Have Published What At Where?"
   ]
  },
  {
   "cell_type": "markdown",
   "id": "7679b846",
   "metadata": {},
   "source": [
    "SELECT\n",
    "au.au_id, \n",
    "au.au_lname as \"Last name\",\n",
    "au.au_fname as \"First name\",\n",
    "p.pub_name  as \"Publisher\"\n",
    "FROM authors as au\n",
    "INNER JOIN titleauthor as tit ON au.au_id = tit.au_id \n",
    "INNER JOIN titles as t ON tit.title_id= t.title_id\n",
    "INNER JOIN publishers as p ON t.pub_id=p.pub_id"
   ]
  },
  {
   "cell_type": "code",
   "execution_count": null,
   "id": "830fdd7e",
   "metadata": {},
   "outputs": [],
   "source": []
  }
 ],
 "metadata": {
  "kernelspec": {
   "display_name": "Python [conda env:ironhack]",
   "language": "python",
   "name": "conda-env-ironhack-py"
  },
  "language_info": {
   "codemirror_mode": {
    "name": "ipython",
    "version": 3
   },
   "file_extension": ".py",
   "mimetype": "text/x-python",
   "name": "python",
   "nbconvert_exporter": "python",
   "pygments_lexer": "ipython3",
   "version": "3.7.11"
  }
 },
 "nbformat": 4,
 "nbformat_minor": 5
}
