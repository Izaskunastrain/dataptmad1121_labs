{
 "cells": [
  {
   "cell_type": "markdown",
   "id": "797b7922",
   "metadata": {},
   "source": [
    "Work done online here: https://dbfiddle.uk/?rdbms=sqlserver_2019&fiddle=51f39300e3ebe5ef2ad7c9570b84ced0"
   ]
  },
  {
   "cell_type": "markdown",
   "id": "78b8dc8f",
   "metadata": {},
   "source": [
    "UPDATE SALESPERSONS SET Store = 'Miami' WHERE ID = 4"
   ]
  },
  {
   "cell_type": "code",
   "execution_count": null,
   "id": "c422ce5a",
   "metadata": {},
   "outputs": [],
   "source": [
    "UPDATE CUSTOMERS SET Email = 'ppicasso@gmail.com' WHERE ID = 0\n",
    "UPDATE CUSTOMERS SET Email = 'lincoln@us.gov' WHERE ID = 1\n",
    "UPDATE CUSTOMERS SET Email = 'hello@napoleon.me' WHERE ID = 2"
   ]
  }
 ],
 "metadata": {
  "kernelspec": {
   "display_name": "Python [conda env:ironhack]",
   "language": "python",
   "name": "conda-env-ironhack-py"
  },
  "language_info": {
   "codemirror_mode": {
    "name": "ipython",
    "version": 3
   },
   "file_extension": ".py",
   "mimetype": "text/x-python",
   "name": "python",
   "nbconvert_exporter": "python",
   "pygments_lexer": "ipython3",
   "version": "3.7.11"
  }
 },
 "nbformat": 4,
 "nbformat_minor": 5
}
