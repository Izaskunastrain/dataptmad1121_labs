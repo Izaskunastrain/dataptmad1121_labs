{
 "cells": [
  {
   "cell_type": "markdown",
   "id": "0b1a6020",
   "metadata": {},
   "source": [
    "Work done online here: https://dbfiddle.uk/?rdbms=sqlserver_2019&fiddle=51f39300e3ebe5ef2ad7c9570b84ced0"
   ]
  },
  {
   "cell_type": "code",
   "execution_count": null,
   "id": "073263e6",
   "metadata": {},
   "outputs": [],
   "source": [
    "INSERT INTO CARS (ID, VIN, Manufacturer, Model, Year, Color)\n",
    "VALUES \n",
    "('0','3K096I98581DHSNUP', 'Volkswagen', 'Tiguan', '2019', 'Blue'),\n",
    "('1', 'ZM8G7BEUQZ97IH46V', 'Peugeot', 'Rifter', '2019', 'Red'),\n",
    "('2', 'RKXVNNIHLVVZOUB4M', 'Ford', 'Fusion', '2018', 'White'),\n",
    "('3', 'HKNDGS7CU31E9Z7JW', 'Toyota', 'RAV4', '2018', 'Silver'),\n",
    "('4', 'DAM41UDN3CHU2WVF6', 'Volvo', 'V60', '2019', 'Gray'),\n",
    "('5', 'DAM41UDN3CHU2WVF6', 'Volvo', 'V60 Cross Country', '2019', 'Gray')"
   ]
  },
  {
   "cell_type": "code",
   "execution_count": null,
   "id": "7800d4e1",
   "metadata": {},
   "outputs": [],
   "source": [
    "INSERT INTO CUSTOMERS (ID, \"Customer ID\", Name, Phone, Email, Address, City, \"State/Province\", Country, Postal)\n",
    "VALUES (0, 10001, 'Pablo Picasso', '+34 636 17 63 82', '-', 'Paseo de la Chopera, 14', 'Madrid', 'Madrid', 'Spain', '28045')\n",
    ",(1, 20001, 'Abraham Lincoln', '+1 305 907 7086', '-', '120 SW 8th St', 'Miami', 'Florida', 'United States', '33130')\n",
    ",(2, 30001, 'Napoléon Bonaparte', '+33 1 79 75 40 00', '-', '40 Rue du Colisée', 'Paris', 'Île-de-France', 'France', '75008');\n",
    "\n",
    "INSERT INTO SALESPERSONS (ID, \"Staff ID\", Name, Store)\n",
    "VALUES (0, '00001', 'Petey Cruiser', 'Madrid')\n",
    ",(1, '00002', 'Anna Sthesia', 'Barcelona')\n",
    ",(2, '00003', 'Paul Molive','Berlin')\n",
    ",(3, '00004', 'Gail Forcewind', 'Paris')\n",
    ",(4, '00005', 'Paige Turner', 'Mimia')\n",
    ",(5, '00006', 'Bob Frapples','Mexico City')\n",
    ",(6, '00007', 'Walter Melon', 'Amsterdam')\n",
    ",(7, '00008', 'Shonda Leer', 'São Paulo');\n",
    "\n",
    "INSERT INTO INVOICES (ID, \"Invoice Number\", \"Date\", Car, Customer, \"Sales Person\")\n",
    "VALUES (0, '852399038', '20180822', 0, 1, 3)\n",
    ",(1, '731166526', '20181231', 3, 0, 5)\n",
    ",(2, '271135104', '20190122', 2, 2, 7);"
   ]
  }
 ],
 "metadata": {
  "kernelspec": {
   "display_name": "Python [conda env:ironhack]",
   "language": "python",
   "name": "conda-env-ironhack-py"
  },
  "language_info": {
   "codemirror_mode": {
    "name": "ipython",
    "version": 3
   },
   "file_extension": ".py",
   "mimetype": "text/x-python",
   "name": "python",
   "nbconvert_exporter": "python",
   "pygments_lexer": "ipython3",
   "version": "3.7.11"
  }
 },
 "nbformat": 4,
 "nbformat_minor": 5
}
