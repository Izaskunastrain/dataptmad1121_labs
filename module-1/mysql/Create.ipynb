{
 "cells": [
  {
   "cell_type": "markdown",
   "id": "b9ba2547",
   "metadata": {},
   "source": [
    "Work done online here: https://dbfiddle.uk/?rdbms=sqlserver_2019&fiddle=51f39300e3ebe5ef2ad7c9570b84ced0"
   ]
  },
  {
   "cell_type": "code",
   "execution_count": null,
   "id": "fc4bf4bb",
   "metadata": {},
   "outputs": [],
   "source": [
    "CREATE TABLE CARS (\n",
    "ID INT NOT NULL, \n",
    "VIN VARCHAR (50) NOT NULL, \n",
    "Manufacturer varchar(50) NOT NULL, \n",
    "Model varchar(50) NOT NULL,\n",
    "Year int, \n",
    "Color char(30));"
   ]
  },
  {
   "cell_type": "code",
   "execution_count": null,
   "id": "6539926c",
   "metadata": {},
   "outputs": [],
   "source": [
    "CREATE TABLE CUSTOMERS (\n",
    "ID INT NOT NULL,\n",
    "\"Customer ID\" INT NOT NULL,\n",
    "Name VARCHAR(50) NOT NULL,\n",
    "Phone VARCHAR(50) NOT NULL,\n",
    "Email VARCHAR(50),\n",
    "Address VARCHAR(50) NOT NULL,\n",
    "City VARCHAR(50) NOT NULL,\n",
    "\"State/Province\" VARCHAR(50) NOT NULL,\n",
    "Country VARCHAR(50) NOT NULL,\n",
    "Postal INT NOT NULL,\n",
    ");"
   ]
  },
  {
   "cell_type": "code",
   "execution_count": null,
   "id": "911bd34f",
   "metadata": {},
   "outputs": [],
   "source": [
    "CREATE TABLE SALESPERSONS (\n",
    "ID INT NOT NULL,\n",
    "\"Staff ID\" VARCHAR(50) NOT NULL,\n",
    "Name VARCHAR(50) NOT NULL,\n",
    "Store VARCHAR(50) NOT NULL,\n",
    ");"
   ]
  },
  {
   "cell_type": "code",
   "execution_count": null,
   "id": "75d8d348",
   "metadata": {},
   "outputs": [],
   "source": [
    "CREATE TABLE INVOICES (\n",
    "ID INT NOT NULL, \n",
    "\"Invoice Number\" VARCHAR(50) NOT NULL,\n",
    "\"Date\"DATE NOT NULL,\n",
    "Car INT NOT NULL,\n",
    "Customer INT NOT NULL,\n",
    "\"Sales Person\" INT NOT NULL,\n",
    ");"
   ]
  }
 ],
 "metadata": {
  "kernelspec": {
   "display_name": "Python [conda env:ironhack]",
   "language": "python",
   "name": "conda-env-ironhack-py"
  },
  "language_info": {
   "codemirror_mode": {
    "name": "ipython",
    "version": 3
   },
   "file_extension": ".py",
   "mimetype": "text/x-python",
   "name": "python",
   "nbconvert_exporter": "python",
   "pygments_lexer": "ipython3",
   "version": "3.7.11"
  }
 },
 "nbformat": 4,
 "nbformat_minor": 5
}
