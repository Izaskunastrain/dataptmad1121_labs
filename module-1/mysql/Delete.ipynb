{
 "cells": [
  {
   "cell_type": "markdown",
   "id": "d17ed8d1",
   "metadata": {},
   "source": [
    "Work done online here: https://dbfiddle.uk/?rdbms=sqlserver_2019&fiddle=51f39300e3ebe5ef2ad7c9570b84ced0"
   ]
  },
  {
   "cell_type": "code",
   "execution_count": null,
   "id": "1687937b",
   "metadata": {},
   "outputs": [],
   "source": [
    "DELETE FROM CARS WHERE ID = 4"
   ]
  }
 ],
 "metadata": {
  "kernelspec": {
   "display_name": "Python [conda env:ironhack]",
   "language": "python",
   "name": "conda-env-ironhack-py"
  },
  "language_info": {
   "codemirror_mode": {
    "name": "ipython",
    "version": 3
   },
   "file_extension": ".py",
   "mimetype": "text/x-python",
   "name": "python",
   "nbconvert_exporter": "python",
   "pygments_lexer": "ipython3",
   "version": "3.7.11"
  }
 },
 "nbformat": 4,
 "nbformat_minor": 5
}
