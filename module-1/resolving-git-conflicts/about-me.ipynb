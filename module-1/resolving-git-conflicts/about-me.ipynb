{
 "cells": [
  {
   "cell_type": "markdown",
   "id": "d9d7ba50",
   "metadata": {},
   "source": [
    "Hola! Me llamo Izaskun Astrain\n",
    "Soy de Pamplona \n",
    "Tengo 33 años\n",
    "Vivo en Madrid\n",
    "Tengo una perra llamada Leona\n",
    "Y me gusta hacer surf cuando puedo escaparme de Madrid"
   ]
  },
  {
   "cell_type": "code",
   "execution_count": null,
   "id": "12afdcd1",
   "metadata": {},
   "outputs": [],
   "source": []
  }
 ],
 "metadata": {
  "kernelspec": {
   "display_name": "Python [conda env:ironhack]",
   "language": "python",
   "name": "conda-env-ironhack-py"
  },
  "language_info": {
   "codemirror_mode": {
    "name": "ipython",
    "version": 3
   },
   "file_extension": ".py",
   "mimetype": "text/x-python",
   "name": "python",
   "nbconvert_exporter": "python",
   "pygments_lexer": "ipython3",
   "version": "3.7.11"
  }
 },
 "nbformat": 4,
 "nbformat_minor": 5
}
