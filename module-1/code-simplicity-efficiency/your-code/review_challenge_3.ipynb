{
 "cells": [
  {
   "cell_type": "code",
   "execution_count": 2,
   "id": "b37bee22",
   "metadata": {},
   "outputs": [
    {
     "name": "stdout",
     "output_type": "stream",
     "text": [
      "What is the maximal length of the triangle side? Enter a number: 6\n",
      "The longest side possible is 5\n",
      "1.6110429763793945\n"
     ]
    }
   ],
   "source": [
    "import time\n",
    "\n",
    "#Original code\n",
    "\n",
    "\"\"\"\n",
    "You are presented with an integer number larger than 5. Your goal is to identify the longest side\n",
    "possible in a right triangle whose sides are not longer than the number you are given.\n",
    "\n",
    "For example, if you are given the number 15, there are 3 possibilities to compose right triangles:\n",
    "\n",
    "1. [3, 4, 5]\n",
    "2. [6, 8, 10]\n",
    "3. [5, 12, 13]\n",
    "\n",
    "The following function shows one way to solve the problem but the code is not ideal or efficient.\n",
    "Refactor the code based on what you have learned about code simplicity and efficiency.\n",
    "\"\"\"\n",
    "start = time.time()\n",
    "def my_function(X):\n",
    "    solutions = []\n",
    "    for x in range(5, X):\n",
    "        for y in range(4, X):\n",
    "            for z in range(3, X):\n",
    "                if (x*x==y*y+z*z):\n",
    "                    solutions.append([x, y, z])\n",
    "    m = 0\n",
    "    for solution in solutions:\n",
    "        if m < max(solution):\n",
    "            m = max(solution)\n",
    "    return m\n",
    "\n",
    "X = input(\"What is the maximal length of the triangle side? Enter a number: \")\n",
    "\n",
    "print(\"The longest side possible is \" + str(my_function(int(X))))\n",
    "\n",
    "end = time.time()\n",
    "print(end - start)\n"
   ]
  },
  {
   "cell_type": "code",
   "execution_count": 19,
   "id": "133a6aa6",
   "metadata": {},
   "outputs": [
    {
     "name": "stdout",
     "output_type": "stream",
     "text": [
      "What is the maximal length of the triangle side? Enter a number: 6\n",
      "The longest side possible is [5]\n",
      "1.9548869132995605\n"
     ]
    }
   ],
   "source": [
    "#My code - \n",
    "\n",
    "start = time.time()\n",
    "def my_function(X):\n",
    "    solutions = [[x, y, z] for x in range(5, X)for y in range(4, X)for z in range(3, X)if (x*x==y*y+z*z)]\n",
    "    m=0\n",
    "    m = [max(solution) for solution in solutions if m < max(solution)]\n",
    "    return m\n",
    "\n",
    "X = input(\"What is the maximal length of the triangle side? Enter a number: \")\n",
    "print(\"The longest side possible is \" + str(my_function(int(X))))\n",
    "end = time.time()\n",
    "print(end - start)\n"
   ]
  },
  {
   "cell_type": "code",
   "execution_count": null,
   "id": "bae23a92",
   "metadata": {},
   "outputs": [],
   "source": []
  }
 ],
 "metadata": {
  "kernelspec": {
   "display_name": "Python 3 (ipykernel)",
   "language": "python",
   "name": "python3"
  },
  "language_info": {
   "codemirror_mode": {
    "name": "ipython",
    "version": 3
   },
   "file_extension": ".py",
   "mimetype": "text/x-python",
   "name": "python",
   "nbconvert_exporter": "python",
   "pygments_lexer": "ipython3",
   "version": "3.7.11"
  }
 },
 "nbformat": 4,
 "nbformat_minor": 5
}
